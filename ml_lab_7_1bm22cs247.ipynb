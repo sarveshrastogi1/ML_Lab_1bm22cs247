{
  "nbformat": 4,
  "nbformat_minor": 0,
  "metadata": {
    "colab": {
      "provenance": [],
      "authorship_tag": "ABX9TyPcWKmz6ffW1RTHkxRBR/0s",
      "include_colab_link": true
    },
    "kernelspec": {
      "name": "python3",
      "display_name": "Python 3"
    },
    "language_info": {
      "name": "python"
    }
  },
  "cells": [
    {
      "cell_type": "markdown",
      "metadata": {
        "id": "view-in-github",
        "colab_type": "text"
      },
      "source": [
        "<a href=\"https://colab.research.google.com/github/sarveshrastogi1/ML_Lab_1bm22cs247/blob/main/ml_lab_7_1bm22cs247.ipynb\" target=\"_parent\"><img src=\"https://colab.research.google.com/assets/colab-badge.svg\" alt=\"Open In Colab\"/></a>"
      ]
    },
    {
      "cell_type": "code",
      "execution_count": 2,
      "metadata": {
        "colab": {
          "base_uri": "https://localhost:8080/"
        },
        "id": "vcoDHiHWYOhO",
        "outputId": "07c08422-b33d-42a1-97c7-a33ada1413f7"
      },
      "outputs": [
        {
          "output_type": "stream",
          "name": "stdout",
          "text": [
            "Baseline accuracy (10 trees): 1.0000\n",
            "Best accuracy 1.0000 achieved with n_estimators = 10\n",
            "Tuning results saved to rf_tuning_results.csv\n"
          ]
        }
      ],
      "source": [
        "import pandas as pd\n",
        "from sklearn.ensemble import RandomForestClassifier\n",
        "from sklearn.model_selection import train_test_split\n",
        "from sklearn.metrics import accuracy_score\n",
        "from sklearn.datasets import load_iris\n",
        "\n",
        "def load_data(csv_path=\"/content/iris (4).csv\"):\n",
        "    \"\"\"\n",
        "    Load the Iris dataset from a CSV file if available;\n",
        "    otherwise fall back to sklearn's built‑in version.\n",
        "    \"\"\"\n",
        "    try:\n",
        "        df = pd.read_csv(csv_path)\n",
        "        # Expecting a column named \"species\"\n",
        "    except FileNotFoundError:\n",
        "        iris = load_iris(as_frame=True)\n",
        "        df = iris.frame\n",
        "        df.rename(columns={'target': 'species'}, inplace=True)\n",
        "    return df\n",
        "\n",
        "def prepare_features(df):\n",
        "    \"\"\"\n",
        "    Split dataframe into features X and target y.\n",
        "    \"\"\"\n",
        "    X = df.drop('species', axis=1)\n",
        "    y = df['species']\n",
        "    return X, y\n",
        "\n",
        "def evaluate_random_forest(X_train, X_test, y_train, y_test, n_estimators=10):\n",
        "    \"\"\"\n",
        "    Train a Random Forest classifier with given n_estimators\n",
        "    and return the test-set accuracy.\n",
        "    \"\"\"\n",
        "    rf = RandomForestClassifier(n_estimators=n_estimators, random_state=42)\n",
        "    rf.fit(X_train, y_train)\n",
        "    preds = rf.predict(X_test)\n",
        "    return accuracy_score(y_test, preds)\n",
        "\n",
        "def tune_n_estimators(X_train, X_test, y_train, y_test, start=10, stop=200, step=10):\n",
        "    \"\"\"\n",
        "    Iterate over a range of n_estimators values, record accuracy for each,\n",
        "    and return a DataFrame of results plus the best setting.\n",
        "    \"\"\"\n",
        "    results = []\n",
        "    for n in range(start, stop + 1, step):\n",
        "        acc = evaluate_random_forest(X_train, X_test, y_train, y_test, n_estimators=n)\n",
        "        results.append({'n_estimators': n, 'accuracy': acc})\n",
        "    df_results = pd.DataFrame(results)\n",
        "    best = df_results.loc[df_results['accuracy'].idxmax()]\n",
        "    return df_results, int(best['n_estimators']), best['accuracy']\n",
        "\n",
        "def main():\n",
        "    # 1. Load and prepare data\n",
        "    df = load_data(\"/content/iris (4).csv\")\n",
        "    X, y = prepare_features(df)\n",
        "\n",
        "    # 2. Split into train/test\n",
        "    X_train, X_test, y_train, y_test = train_test_split(\n",
        "        X, y, test_size=0.3, random_state=42\n",
        "    )\n",
        "\n",
        "    # 3. Baseline with default n_estimators=10\n",
        "    baseline_acc = evaluate_random_forest(X_train, X_test, y_train, y_test)\n",
        "    print(f\"Baseline accuracy (10 trees): {baseline_acc:.4f}\")\n",
        "\n",
        "    # 4. Hyperparameter tuning for n_estimators\n",
        "    results_df, best_n, best_acc = tune_n_estimators(X_train, X_test, y_train, y_test)\n",
        "    print(f\"Best accuracy {best_acc:.4f} achieved with n_estimators = {best_n}\")\n",
        "\n",
        "    # 5. (Optional) Save the tuning results to CSV\n",
        "    results_df.to_csv(\"rf_tuning_results.csv\", index=False)\n",
        "    print(\"Tuning results saved to rf_tuning_results.csv\")\n",
        "\n",
        "if __name__ == \"__main__\":\n",
        "    main()\n"
      ]
    }
  ]
}